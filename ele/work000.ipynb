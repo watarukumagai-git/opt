{
 "cells": [
  {
   "cell_type": "code",
   "execution_count": 1,
   "id": "fdc06edc-fc07-422b-a5f7-b278529c9790",
   "metadata": {},
   "outputs": [
    {
     "name": "stdout",
     "output_type": "stream",
     "text": [
      "['201904', '201905', '201906', '201907']\n",
      "https://powergrid.chuden.co.jp/goannai/hatsuden_kouri/takuso_kyokyu/ryokin/imbalance/imbalancefile/04_chubu_imbalance_confirmed_201904.csv\n",
      "https://powergrid.chuden.co.jp/goannai/hatsuden_kouri/takuso_kyokyu/ryokin/imbalance/imbalancefile/04_chubu_imbalance_confirmed_201905.csv\n",
      "https://powergrid.chuden.co.jp/goannai/hatsuden_kouri/takuso_kyokyu/ryokin/imbalance/imbalancefile/04_chubu_imbalance_confirmed_201906.csv\n",
      "https://powergrid.chuden.co.jp/goannai/hatsuden_kouri/takuso_kyokyu/ryokin/imbalance/imbalancefile/04_chubu_imbalance_confirmed_201907.csv\n",
      "      H   ファイル更新日  ファイル更新時間 エリアコード       会社名               対象年月  \\\n",
      "0     H  20191021  10:52:37     04  中部電力株式会社             201904   \n",
      "1     T        日付     時間帯コマ  時間帯_自     時間帯_至  インバランス料金単価（円／ｋＷｈ）   \n",
      "2     D  20190401         1  00:00     00:30               6.17   \n",
      "3     D  20190401         2  00:30     01:00               5.89   \n",
      "4     D  20190401         3  01:00     01:30               5.88   \n",
      "...  ..       ...       ...    ...       ...                ...   \n",
      "1486  D  20190731        45  22:00     22:30              12.13   \n",
      "1487  D  20190731        46  22:30     23:00              10.97   \n",
      "1488  D  20190731        47  23:00     23:30              10.56   \n",
      "1489  D  20190731        48  23:30     24:00              10.80   \n",
      "1490  E       NaN       NaN    NaN       NaN                NaN   \n",
      "\n",
      "     地域ごとの市場価格差を反映する調整項（円／ｋＷｈ）  \n",
      "0                        -0.95  \n",
      "1              エリアインバランス量（ｋＷｈ）  \n",
      "2                        97870  \n",
      "3                       228484  \n",
      "4                       183085  \n",
      "...                        ...  \n",
      "1486                   -162192  \n",
      "1487                   -167981  \n",
      "1488                   -165225  \n",
      "1489                   -141652  \n",
      "1490                       NaN  \n",
      "\n",
      "[5868 rows x 7 columns]\n",
      "finish\n"
     ]
    }
   ],
   "source": [
    "%run work000.py"
   ]
  }
 ],
 "metadata": {
  "kernelspec": {
   "display_name": "Python 3 (ipykernel)",
   "language": "python",
   "name": "python3"
  },
  "language_info": {
   "codemirror_mode": {
    "name": "ipython",
    "version": 3
   },
   "file_extension": ".py",
   "mimetype": "text/x-python",
   "name": "python",
   "nbconvert_exporter": "python",
   "pygments_lexer": "ipython3",
   "version": "3.9.6"
  }
 },
 "nbformat": 4,
 "nbformat_minor": 5
}
